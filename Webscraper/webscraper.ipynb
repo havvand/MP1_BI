{
 "cells": [
  {
   "cell_type": "code",
   "execution_count": 83,
   "metadata": {},
   "outputs": [],
   "source": [
    "# import the requests and BeautifulSoup modules\n",
    "import requests\n",
    "from bs4 import BeautifulSoup\n",
    "\n",
    "def scrape_website(url, tag, **attributes):\n",
    "    # Send a GET request to the URL\n",
    "    response = requests.get(url)\n",
    "    # Check if the request was successful\n",
    "    if response.status_code != 200:\n",
    "        # If the request was unsuccessful, return an error message\n",
    "        return \"Error: Unable to retrieve page. Status code: \" + str(response.status_code)\n",
    "    # Parse the HTML content of the page\n",
    "    soup = BeautifulSoup(response.content, 'html.parser')\n",
    "    # Find all elements that match the tag and attributes\n",
    "    elements = soup.find_all(tag, attributes)\n",
    "    element_data_list = []  # Create a new list to store the dictionaries\n",
    "    for element in elements:\n",
    "        element_data = {\n",
    "            'text': element.text,\n",
    "            'metadata': {\n",
    "                'attributes': {attr: element.get(attr) for attr in element.attrs},\n",
    "                'parent_tag': element.find_parent().name if element.find_parent() else None,\n",
    "                'url': url,\n",
    "        }\n",
    "    }\n",
    "        element_data_list.append(element_data)  # Append to the new list\n",
    "    return element_data_list  # Return the new list\n",
    "\n"
   ]
  },
  {
   "cell_type": "markdown",
   "metadata": {},
   "source": [
    "# Scraping a page with job listings\n",
    "We want to scrape the location of every IT related job listed in the greater Copenhagen area on this particular page"
   ]
  },
  {
   "cell_type": "code",
   "execution_count": 84,
   "metadata": {},
   "outputs": [
    {
     "name": "stdout",
     "output_type": "stream",
     "text": [
      "Text: Hellerup, Metadata: {'attributes': {'class': ['jix_robotjob--area']}, 'parent_tag': 'div', 'url': 'https://www.jobindex.dk/jobsoegning/it/systemudvikling/storkoebenhavn'}\n",
      "Text: København S, Metadata: {'attributes': {'class': ['jix_robotjob--area']}, 'parent_tag': 'div', 'url': 'https://www.jobindex.dk/jobsoegning/it/systemudvikling/storkoebenhavn'}\n",
      "Text: København K, Metadata: {'attributes': {'class': ['jix_robotjob--area']}, 'parent_tag': 'div', 'url': 'https://www.jobindex.dk/jobsoegning/it/systemudvikling/storkoebenhavn'}\n",
      "Text: København S, Metadata: {'attributes': {'class': ['jix_robotjob--area']}, 'parent_tag': 'div', 'url': 'https://www.jobindex.dk/jobsoegning/it/systemudvikling/storkoebenhavn'}\n",
      "Text: Herlev, Metadata: {'attributes': {'class': ['jix_robotjob--area']}, 'parent_tag': 'div', 'url': 'https://www.jobindex.dk/jobsoegning/it/systemudvikling/storkoebenhavn'}\n",
      "Text: Frederiksberg, Metadata: {'attributes': {'class': ['jix_robotjob--area']}, 'parent_tag': 'div', 'url': 'https://www.jobindex.dk/jobsoegning/it/systemudvikling/storkoebenhavn'}\n",
      "Text: Søborg, Metadata: {'attributes': {'class': ['jix_robotjob--area']}, 'parent_tag': 'div', 'url': 'https://www.jobindex.dk/jobsoegning/it/systemudvikling/storkoebenhavn'}\n",
      "Text: København Ø, Metadata: {'attributes': {'class': ['jix_robotjob--area']}, 'parent_tag': 'div', 'url': 'https://www.jobindex.dk/jobsoegning/it/systemudvikling/storkoebenhavn'}\n",
      "Text: København SV, Metadata: {'attributes': {'class': ['jix_robotjob--area']}, 'parent_tag': 'div', 'url': 'https://www.jobindex.dk/jobsoegning/it/systemudvikling/storkoebenhavn'}\n",
      "Text: Ballerup, Metadata: {'attributes': {'class': ['jix_robotjob--area']}, 'parent_tag': 'div', 'url': 'https://www.jobindex.dk/jobsoegning/it/systemudvikling/storkoebenhavn'}\n",
      "Text: Glostrup eller Aabenraa, Metadata: {'attributes': {'class': ['jix_robotjob--area']}, 'parent_tag': 'div', 'url': 'https://www.jobindex.dk/jobsoegning/it/systemudvikling/storkoebenhavn'}\n",
      "Text: København, Metadata: {'attributes': {'class': ['jix_robotjob--area']}, 'parent_tag': 'div', 'url': 'https://www.jobindex.dk/jobsoegning/it/systemudvikling/storkoebenhavn'}\n",
      "Text: Copenhagen, Metadata: {'attributes': {'class': ['jix_robotjob--area']}, 'parent_tag': 'div', 'url': 'https://www.jobindex.dk/jobsoegning/it/systemudvikling/storkoebenhavn'}\n",
      "Text: Ballerup, Metadata: {'attributes': {'class': ['jix_robotjob--area']}, 'parent_tag': 'div', 'url': 'https://www.jobindex.dk/jobsoegning/it/systemudvikling/storkoebenhavn'}\n",
      "Text: Copenhagen, Metadata: {'attributes': {'class': ['jix_robotjob--area']}, 'parent_tag': 'div', 'url': 'https://www.jobindex.dk/jobsoegning/it/systemudvikling/storkoebenhavn'}\n",
      "Text: København, Metadata: {'attributes': {'class': ['jix_robotjob--area']}, 'parent_tag': 'div', 'url': 'https://www.jobindex.dk/jobsoegning/it/systemudvikling/storkoebenhavn'}\n",
      "Text: København NV, Metadata: {'attributes': {'class': ['jix_robotjob--area']}, 'parent_tag': 'div', 'url': 'https://www.jobindex.dk/jobsoegning/it/systemudvikling/storkoebenhavn'}\n",
      "Text: Søborg, Metadata: {'attributes': {'class': ['jix_robotjob--area']}, 'parent_tag': 'div', 'url': 'https://www.jobindex.dk/jobsoegning/it/systemudvikling/storkoebenhavn'}\n",
      "Text: Copenhagen, Metadata: {'attributes': {'class': ['jix_robotjob--area']}, 'parent_tag': 'div', 'url': 'https://www.jobindex.dk/jobsoegning/it/systemudvikling/storkoebenhavn'}\n"
     ]
    }
   ],
   "source": [
    "url = \"https://www.jobindex.dk/jobsoegning/it/systemudvikling/storkoebenhavn\"\n",
    "tag = \"span\"\n",
    "attributes = {\"class\": \"jix_robotjob--area\"}\n",
    "\n",
    "# Call the function and store the results\n",
    "results_with_metadata = scrape_website(url, tag, **attributes)\n",
    "\n",
    "# Print the results\n",
    "for item in results_with_metadata:\n",
    "    print(f\"Text: {item['text']}, Metadata: {item['metadata']}\")"
   ]
  },
  {
   "cell_type": "markdown",
   "metadata": {},
   "source": [
    "# Storing the data in a CSV file"
   ]
  },
  {
   "cell_type": "code",
   "execution_count": 86,
   "metadata": {},
   "outputs": [],
   "source": [
    "import csv\n",
    "\n",
    "# Specify the CSV file to write to\n",
    "filename = 'data.csv'\n",
    "\n",
    "# Open the file in write mode\n",
    "with open(filename, 'w', newline='') as csvfile:\n",
    "    # Create a CSV writer\n",
    "    writer = csv.writer(csvfile)\n",
    "\n",
    "    # Write the header row\n",
    "    writer.writerow(['Text', 'Metadata'])\n",
    "\n",
    "    # Write the data rows\n",
    "    for element in results_with_metadata:\n",
    "        writer.writerow([element['text'], element['metadata']])"
   ]
  },
  {
   "cell_type": "markdown",
   "metadata": {},
   "source": [
    "# Using panda to explore the data"
   ]
  },
  {
   "cell_type": "code",
   "execution_count": 87,
   "metadata": {},
   "outputs": [
    {
     "name": "stdout",
     "output_type": "stream",
     "text": [
      "                       Text                                           Metadata\n",
      "0                  Hellerup  {'attributes': {'class': ['jix_robotjob--area'...\n",
      "1               København S  {'attributes': {'class': ['jix_robotjob--area'...\n",
      "2               København K  {'attributes': {'class': ['jix_robotjob--area'...\n",
      "3               København S  {'attributes': {'class': ['jix_robotjob--area'...\n",
      "4                    Herlev  {'attributes': {'class': ['jix_robotjob--area'...\n",
      "5             Frederiksberg  {'attributes': {'class': ['jix_robotjob--area'...\n",
      "6                    Søborg  {'attributes': {'class': ['jix_robotjob--area'...\n",
      "7               København Ø  {'attributes': {'class': ['jix_robotjob--area'...\n",
      "8              København SV  {'attributes': {'class': ['jix_robotjob--area'...\n",
      "9                  Ballerup  {'attributes': {'class': ['jix_robotjob--area'...\n",
      "10  Glostrup eller Aabenraa  {'attributes': {'class': ['jix_robotjob--area'...\n",
      "11                København  {'attributes': {'class': ['jix_robotjob--area'...\n",
      "12               Copenhagen  {'attributes': {'class': ['jix_robotjob--area'...\n",
      "13                 Ballerup  {'attributes': {'class': ['jix_robotjob--area'...\n",
      "14               Copenhagen  {'attributes': {'class': ['jix_robotjob--area'...\n",
      "15                København  {'attributes': {'class': ['jix_robotjob--area'...\n",
      "16             København NV  {'attributes': {'class': ['jix_robotjob--area'...\n",
      "17                   Søborg  {'attributes': {'class': ['jix_robotjob--area'...\n",
      "18               Copenhagen  {'attributes': {'class': ['jix_robotjob--area'...\n"
     ]
    }
   ],
   "source": [
    "import pandas as pd\n",
    "\n",
    "# Specify the CSV file to read from\n",
    "filename = 'data.csv'\n",
    "\n",
    "# Read the CSV file into a DataFrame\n",
    "df = pd.read_csv(filename)\n",
    "\n",
    "# Print the DataFrame\n",
    "print(df)"
   ]
  },
  {
   "cell_type": "markdown",
   "metadata": {},
   "source": [
    "# Cleaning the data\n",
    "One item turns up as 'Glostrup eller Aabenraa' - two different locations"
   ]
  },
  {
   "cell_type": "code",
   "execution_count": 88,
   "metadata": {},
   "outputs": [
    {
     "name": "stdout",
     "output_type": "stream",
     "text": [
      "             Text                                           Metadata\n",
      "0        Hellerup  {'attributes': {'class': ['jix_robotjob--area'...\n",
      "1     København S  {'attributes': {'class': ['jix_robotjob--area'...\n",
      "2     København K  {'attributes': {'class': ['jix_robotjob--area'...\n",
      "3     København S  {'attributes': {'class': ['jix_robotjob--area'...\n",
      "4          Herlev  {'attributes': {'class': ['jix_robotjob--area'...\n",
      "5   Frederiksberg  {'attributes': {'class': ['jix_robotjob--area'...\n",
      "6          Søborg  {'attributes': {'class': ['jix_robotjob--area'...\n",
      "7     København Ø  {'attributes': {'class': ['jix_robotjob--area'...\n",
      "8    København SV  {'attributes': {'class': ['jix_robotjob--area'...\n",
      "9        Ballerup  {'attributes': {'class': ['jix_robotjob--area'...\n",
      "10       Glostrup  {'attributes': {'class': ['jix_robotjob--area'...\n",
      "11      København  {'attributes': {'class': ['jix_robotjob--area'...\n",
      "12     Copenhagen  {'attributes': {'class': ['jix_robotjob--area'...\n",
      "13       Ballerup  {'attributes': {'class': ['jix_robotjob--area'...\n",
      "14     Copenhagen  {'attributes': {'class': ['jix_robotjob--area'...\n",
      "15      København  {'attributes': {'class': ['jix_robotjob--area'...\n",
      "16   København NV  {'attributes': {'class': ['jix_robotjob--area'...\n",
      "17         Søborg  {'attributes': {'class': ['jix_robotjob--area'...\n",
      "18     Copenhagen  {'attributes': {'class': ['jix_robotjob--area'...\n"
     ]
    }
   ],
   "source": [
    "# Make changes to a specific row\n",
    "# For example, to change the row with index 10:\n",
    "df.loc[10, 'Text'] = 'Glostrup'\n",
    "\n",
    "# Write the DataFrame back to the CSV file\n",
    "df.to_csv('data.csv', index=False)\n",
    "print(df)"
   ]
  },
  {
   "cell_type": "markdown",
   "metadata": {},
   "source": [
    "# Visualization \n",
    "Count and plot the data to see where in the greater CPH area the jobs occur"
   ]
  },
  {
   "cell_type": "code",
   "execution_count": 89,
   "metadata": {},
   "outputs": [
    {
     "name": "stdout",
     "output_type": "stream",
     "text": [
      "Text\n",
      "Copenhagen       3\n",
      "København S      2\n",
      "Søborg           2\n",
      "Ballerup         2\n",
      "København        2\n",
      "Hellerup         1\n",
      "København K      1\n",
      "Herlev           1\n",
      "Frederiksberg    1\n",
      "København Ø      1\n",
      "København SV     1\n",
      "Glostrup         1\n",
      "København NV     1\n",
      "Name: count, dtype: int64\n"
     ]
    },
    {
     "data": {
      "image/png": "[encoded data removed]",
      "text/plain": [
       "<Figure size 640x480 with 1 Axes>"
      ]
     },
     "metadata": {},
     "output_type": "display_data"
    }
   ],
   "source": [
    "import matplotlib.pyplot as plt\n",
    "\n",
    "# Assume 'df' is your DataFrame and 'Text' is the column you're interested in\n",
    "counts = df['Text'].value_counts()\n",
    "\n",
    "# Print the counts\n",
    "print(counts)\n",
    "\n",
    "# Plot the counts\n",
    "counts.plot(kind='bar')\n",
    "\n",
    "# Show the plot\n",
    "plt.show()"
   ]
  }
 ],
 "metadata": {
  "kernelspec": {
   "display_name": "base",
   "language": "python",
   "name": "python3"
  },
  "language_info": {
   "codemirror_mode": {
    "name": "ipython",
    "version": 3
   },
   "file_extension": ".py",
   "mimetype": "text/x-python",
   "name": "python",
   "nbconvert_exporter": "python",
   "pygments_lexer": "ipython3",
   "version": "3.11.5"
  }
 },
 "nbformat": 4,
 "nbformat_minor": 2
}
